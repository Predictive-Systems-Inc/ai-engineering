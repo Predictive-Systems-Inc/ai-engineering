{
  "cells": [
    {
      "cell_type": "markdown",
      "metadata": {
        "id": "KxpWDFG11o3G"
      },
      "source": [
        "# Multi-Agent Workflows + RAG - LangGraph\n",
        "\n",
        "Today we'll be looking at an example of a Multi-Agent workflow that's powered by LangGraph, LCEL, and more!\n",
        "\n",
        "We're going to be, more specifically, looking at a \"heirarchical agent teams\" from the [AutoGen: Enabling Next-Gen LLM\n",
        "Applications via Multi-Agent Conversation](https://arxiv.org/pdf/2308.08155) paper.\n",
        "\n",
        "This will be the final \"graph\" of our system:\n",
        "\n",
        "![image](https://i.imgur.com/Bhc7RVE.png)\n",
        "\n",
        "It's important to keep in mind that the actual implementation will be constructed of 3 separate graphs, the final one having 2 graphs as nodes! LangGraph is a heckuva tool!\n",
        "\n",
        "> NOTE: We'll be following along with the official LangGraph implementation very closely, which you can find [here](https://github.com/langchain-ai/langgraph/blob/main/examples/multi_agent/hierarchical_agent_teams.ipynb), with some minor modifications and extensions to showcase just how straightforward it is to modify LangGraph implementations to suit your own needs!\n",
        "\n"
      ]
    },
    {
      "cell_type": "markdown",
      "metadata": {},
      "source": [
        "## Videos to Watch:\n",
        "https://www.youtube.com/watch?v=ulTvNAXI_1E"
      ]
    },
    {
      "cell_type": "markdown",
      "metadata": {
        "id": "mx3oaVoX5cA2"
      },
      "source": [
        "## Dependencies\n",
        "\n",
        "We'll start, as we normally do, by grabbing our dependencies.\n",
        "\n",
        "We'll be using LangChain and LangGraph to power our application, so let's start by grabbing those!"
      ]
    },
    {
      "cell_type": "code",
      "execution_count": 1,
      "metadata": {
        "id": "cs6HUTgecbzW"
      },
      "outputs": [
        {
          "name": "stdout",
          "output_type": "stream",
          "text": [
            "Note: you may need to restart the kernel to use updated packages.\n"
          ]
        }
      ],
      "source": [
        "%pip install -qU langgraph langchain langchain_openai langchain_experimental"
      ]
    },
    {
      "cell_type": "markdown",
      "metadata": {
        "id": "BMzWFUc25oqT"
      },
      "source": [
        "We're going to be showing a simple RAG chain as part of our LangGraph - and so we'll need specific dependencies for that as well!"
      ]
    },
    {
      "cell_type": "code",
      "execution_count": 2,
      "metadata": {
        "id": "qEUBCOdukjwc"
      },
      "outputs": [
        {
          "name": "stdout",
          "output_type": "stream",
          "text": [
            "Note: you may need to restart the kernel to use updated packages.\n"
          ]
        }
      ],
      "source": [
        "%pip install -qU --disable-pip-version-check qdrant-client pymupdf tiktoken"
      ]
    },
    {
      "cell_type": "markdown",
      "metadata": {
        "id": "Zpv2MWqu5vS9"
      },
      "source": [
        "Since we'll be relying on OpenAI's suite of models to power our agents today, we'll want to provide our OpenAI API Key.\n",
        "\n",
        "We're also going to be using the Tavily search tool - so we'll want to provide that API key as well!\n",
        "\n",
        "Instruction for how to obtain these API keys can be found:\n",
        "\n",
        "1. [OpenAI API Key](https://platform.openai.com/docs/quickstart#:~:text=Account%20setup,not%20share%20it%20with%20anyone.)\n",
        "2. [Tavily API Key](https://docs.tavily.com/docs/tavily-api/introduction#:~:text=Sign%20Up%3A%20Begin%20by%20signing,in%20our%20interactive%20API%20playground.)\n",
        "\n"
      ]
    },
    {
      "cell_type": "code",
      "execution_count": 3,
      "metadata": {
        "colab": {
          "base_uri": "https://localhost:8080/"
        },
        "id": "h30OjkLfeR2Y",
        "outputId": "41fa0092-b185-43de-8734-32b2151d8776"
      },
      "outputs": [],
      "source": [
        "import os\n",
        "import getpass"
      ]
    },
    {
      "cell_type": "code",
      "execution_count": null,
      "metadata": {},
      "outputs": [],
      "source": [
        "os.environ[\"OPENAI_API_KEY\"] = getpass.getpass(\"OpenAI API Key:\")"
      ]
    },
    {
      "cell_type": "code",
      "execution_count": 4,
      "metadata": {},
      "outputs": [],
      "source": [
        "os.environ[\"TAVILY_API_KEY\"] = getpass.getpass(\"TAVILY_API_KEY\")"
      ]
    },
    {
      "cell_type": "markdown",
      "metadata": {
        "id": "M_LD7rwT6PbO"
      },
      "source": [
        "## Simple LCEL RAG\n",
        "\n",
        "Now that we have our dependencies set-up - let's create a simple RAG chain that works over a single PDF.\n",
        "\n",
        "> NOTE: While this particular example is very straight forward - you can \"plug in\" any complexity of chain you desire as a node in a LangGraph."
      ]
    },
    {
      "cell_type": "markdown",
      "metadata": {
        "id": "JY7T5kxJ6jGn"
      },
      "source": [
        "## Retrieval\n",
        "\n",
        "The 'R' in 'RAG' - this is, at this point, fairly straightforward!"
      ]
    },
    {
      "cell_type": "markdown",
      "metadata": {
        "id": "DGuPxSCk7Ztz"
      },
      "source": [
        "#### Data Collection and Processing\n",
        "\n",
        "A classic first step, at this point, let's grab our desired document!"
      ]
    },
    {
      "cell_type": "code",
      "execution_count": 5,
      "metadata": {
        "id": "LfuoEYRCln3H"
      },
      "outputs": [],
      "source": [
        "from langchain.document_loaders import PyMuPDFLoader\n",
        "\n",
        "docs = PyMuPDFLoader(\"https://arxiv.org/pdf/2404.19553\").load()"
      ]
    },
    {
      "cell_type": "markdown",
      "metadata": {
        "id": "r_t_F1zG6vXa"
      },
      "source": [
        "Now we can chunk it down to size!"
      ]
    },
    {
      "cell_type": "code",
      "execution_count": 6,
      "metadata": {
        "id": "5R7A_z8CgL79"
      },
      "outputs": [],
      "source": [
        "import tiktoken\n",
        "from langchain.text_splitter import RecursiveCharacterTextSplitter\n",
        "\n",
        "def tiktoken_len(text):\n",
        "    tokens = tiktoken.encoding_for_model(\"gpt-4o\").encode(\n",
        "        text,\n",
        "    )\n",
        "    return len(tokens)\n",
        "\n",
        "text_splitter = RecursiveCharacterTextSplitter(\n",
        "    chunk_size = 300,\n",
        "    chunk_overlap = 0,\n",
        "    length_function = tiktoken_len,\n",
        ")\n",
        "\n",
        "split_chunks = text_splitter.split_documents(docs)"
      ]
    },
    {
      "cell_type": "markdown",
      "metadata": {
        "id": "lGE-VuMc7AKv"
      },
      "source": [
        "Now we've successfully split our single PDF into..."
      ]
    },
    {
      "cell_type": "code",
      "execution_count": 7,
      "metadata": {
        "colab": {
          "base_uri": "https://localhost:8080/"
        },
        "id": "pgYBHsdWmLvW",
        "outputId": "9edfecc4-f459-4cd5-f815-82fef9283d9e"
      },
      "outputs": [
        {
          "data": {
            "text/plain": [
              "15"
            ]
          },
          "execution_count": 7,
          "metadata": {},
          "output_type": "execute_result"
        }
      ],
      "source": [
        "len(split_chunks)"
      ]
    },
    {
      "cell_type": "markdown",
      "metadata": {
        "id": "lxaKmmyh7DHD"
      },
      "source": [
        "documents!"
      ]
    },
    {
      "cell_type": "markdown",
      "metadata": {
        "id": "cGWs7KTd7QPS"
      },
      "source": [
        "#### Embedding Model and Vector Store\n",
        "\n",
        "Now that we have our chunked document - lets create a vector store, which will first require us to create an embedding model to get the vector representations of our text!\n",
        "\n",
        "We'll use OpenAI's [`text-embedding-3-small`](https://platform.openai.com/docs/guides/embeddings/embedding-models) model - as it's cheap, and performant."
      ]
    },
    {
      "cell_type": "code",
      "execution_count": null,
      "metadata": {
        "id": "xLIWMMZCmfrj"
      },
      "outputs": [],
      "source": [
        "from langchain_openai.embeddings import OpenAIEmbeddings\n",
        "\n",
        "embedding_model = OpenAIEmbeddings(model=\"text-embedding-3-small\")"
      ]
    },
    {
      "cell_type": "code",
      "execution_count": 9,
      "metadata": {},
      "outputs": [
        {
          "data": {
            "text/plain": [
              "AzureOpenAIEmbeddings(client=<openai.resources.embeddings.Embeddings object at 0x000001E6528DA6F0>, async_client=<openai.resources.embeddings.AsyncEmbeddings object at 0x000001E6528DBA70>, model='text-embedding-3-small', dimensions=None, deployment=None, openai_api_version='2024-05-01-preview', openai_api_base=None, openai_api_type='azure', openai_proxy='', embedding_ctx_length=8191, openai_api_key=SecretStr('**********'), openai_organization=None, allowed_special=None, disallowed_special=None, chunk_size=2048, max_retries=2, request_timeout=None, headers=None, tiktoken_enabled=True, tiktoken_model_name=None, show_progress_bar=False, model_kwargs={}, skip_empty=False, default_headers=None, default_query=None, retry_min_seconds=4, retry_max_seconds=20, http_client=None, http_async_client=None, check_embedding_ctx_length=True, azure_endpoint='https://james-ai.openai.azure.com/openai/deployments/text-embedding-3-small/embeddings?api-version=2024-05-01-preview', azure_ad_token=None, azure_ad_token_provider=None, validate_base_url=True)"
            ]
          },
          "execution_count": 9,
          "metadata": {},
          "output_type": "execute_result"
        }
      ],
      "source": [
        "from langchain_openai import AzureOpenAIEmbeddings\n",
        "\n",
        "api_key = \"a1ab70e0f13c4db1b2236ae9ea986511\"\n",
        "api_version = \"2024-05-01-preview\"\n",
        "\n",
        "embedding_model = AzureOpenAIEmbeddings(\n",
        "    model=\"text-embedding-3-small\",\n",
        "    api_key=api_key,\n",
        "    api_version=api_version,\n",
        "    azure_endpoint=f\"https://james-ai.openai.azure.com/openai/deployments/text-embedding-3-small/embeddings?api-version={api_version}\"\n",
        ")\n",
        "\n",
        "embedding_model"
      ]
    },
    {
      "cell_type": "markdown",
      "metadata": {
        "id": "lTEi7Ww573sc"
      },
      "source": [
        "Now we can create our QDrant backed vector store!"
      ]
    },
    {
      "cell_type": "code",
      "execution_count": 10,
      "metadata": {
        "id": "Xct51f8omVAU"
      },
      "outputs": [],
      "source": [
        "from langchain_community.vectorstores import Qdrant\n",
        "\n",
        "qdrant_vectorstore = Qdrant.from_documents(\n",
        "    split_chunks,\n",
        "    embedding_model,\n",
        "    location=\":memory:\",\n",
        "    collection_name=\"extending_context_window_llama_3\",\n",
        ")"
      ]
    },
    {
      "cell_type": "markdown",
      "metadata": {
        "id": "wzGq6o4s79Ar"
      },
      "source": [
        "Let's make sure we can access it as a retriever."
      ]
    },
    {
      "cell_type": "code",
      "execution_count": 11,
      "metadata": {
        "id": "OTnQZbWymi4K"
      },
      "outputs": [],
      "source": [
        "qdrant_retriever = qdrant_vectorstore.as_retriever()"
      ]
    },
    {
      "cell_type": "markdown",
      "metadata": {
        "id": "aU8qSrMS7_D7"
      },
      "source": [
        "### Augmented\n",
        "\n",
        "Now that we have our retrieval process set-up, we need to set up our \"augmentation\" process - AKA a prompt template."
      ]
    },
    {
      "cell_type": "code",
      "execution_count": 12,
      "metadata": {
        "id": "lezTN0zCmk46"
      },
      "outputs": [],
      "source": [
        "from langchain_core.prompts import ChatPromptTemplate\n",
        "\n",
        "RAG_PROMPT = \"\"\"\n",
        "CONTEXT:\n",
        "{context}\n",
        "\n",
        "QUERY:\n",
        "{question}\n",
        "\n",
        "You are a helpful assistant. Use the available context to answer the question. If you can't answer the question, say you don't know.\n",
        "\"\"\"\n",
        "\n",
        "rag_prompt = ChatPromptTemplate.from_template(RAG_PROMPT)"
      ]
    },
    {
      "cell_type": "markdown",
      "metadata": {
        "id": "Y9fa63nM7IKK"
      },
      "source": [
        "### Generation\n",
        "\n",
        "Last, but certainly not least, let's put the 'G' in 'RAG' by adding our generator - in this case, we can rely on OpenAI's [`gpt-3.5-turbo`](https://platform.openai.com/docs/models/gpt-3-5-turbo) model!"
      ]
    },
    {
      "cell_type": "code",
      "execution_count": null,
      "metadata": {
        "id": "AwEi29-Jo3a8"
      },
      "outputs": [],
      "source": [
        "from langchain_openai import ChatOpenAI\n",
        "\n",
        "openai_chat_model = ChatOpenAI(model=\"gpt-3.5-turbo\")"
      ]
    },
    {
      "cell_type": "code",
      "execution_count": 13,
      "metadata": {},
      "outputs": [],
      "source": [
        "from langchain_openai import AzureChatOpenAI\n",
        "\n",
        "openai_chat_model = AzureChatOpenAI(\n",
        "  model=\"gpt-4o\",\n",
        "  api_key=api_key,\n",
        "  api_version=api_version,\n",
        "  azure_endpoint = f\"https://james-ai.openai.azure.com/openai/deployments/gpt-4o/chat/completions?api-version={api_version}\"\n",
        ")"
      ]
    },
    {
      "cell_type": "markdown",
      "metadata": {
        "id": "qO-ZC0T98XJJ"
      },
      "source": [
        "### RAG - Retrieval Augmented Generation\n",
        "\n",
        "All that's left to do is combine our R, A, and G into a single chain - and we're off!"
      ]
    },
    {
      "cell_type": "code",
      "execution_count": 14,
      "metadata": {
        "id": "nlOJrPm_oT3S"
      },
      "outputs": [],
      "source": [
        "from operator import itemgetter\n",
        "from langchain.schema.output_parser import StrOutputParser\n",
        "\n",
        "rag_chain = (\n",
        "    {\"context\": itemgetter(\"question\") | qdrant_retriever, \"question\": itemgetter(\"question\")}\n",
        "    | rag_prompt | openai_chat_model | StrOutputParser()\n",
        ")"
      ]
    },
    {
      "cell_type": "markdown",
      "metadata": {
        "id": "qiWrbXpu8ggz"
      },
      "source": [
        "Let's test this out and make sure it works."
      ]
    },
    {
      "cell_type": "code",
      "execution_count": 15,
      "metadata": {
        "colab": {
          "base_uri": "https://localhost:8080/",
          "height": 35
        },
        "id": "gJhFlW32pBPe",
        "outputId": "ba8823cb-a32b-4a51-afe2-be3ef01cc85e"
      },
      "outputs": [
        {
          "data": {
            "text/plain": [
              "\"The 'context' in 'long context' refers to the length of text or content that a large language model (LLM) can process and understand at once. Specifically, it involves the ability of the model to handle and analyze extended pieces of text, such as books or lengthy papers, where information might need to be aggregated and analyzed from different parts of the text. The term 'long context' is used to describe scenarios where the model operates over significantly large text inputs, extending beyond typical short passages to much longer ones, such as those exceeding thousands of tokens. The aim is to enhance the model's capability to maintain coherence and produce accurate responses or analyses over these extended texts.\""
            ]
          },
          "execution_count": 15,
          "metadata": {},
          "output_type": "execute_result"
        }
      ],
      "source": [
        "rag_chain.invoke({\"question\" : \"What does the 'context' in 'long context' refer to?\"})"
      ]
    },
    {
      "cell_type": "markdown",
      "metadata": {
        "id": "gReMizYk8qd-"
      },
      "source": [
        "### RAG Limitation\n",
        "\n",
        "Notice how we're hard-coding our data, while this is simply meant to be an illustrative example - you could easily extend this to work with any provied paper or document in order to have a more dynamic system.\n",
        "\n",
        "For now, we'll stick with this single hard-coded example in order to keep complexity down in an already very long notebook!"
      ]
    },
    {
      "cell_type": "markdown",
      "metadata": {
        "id": "7U6a_pqQ9uWf"
      },
      "source": [
        "## Helper Functions for Agent Graphs\n",
        "\n",
        "We'll be using a number of agents, nodes, and supervisors in the rest of the notebook - and so it will help to have a collection of useful helper functions that we can leverage to make our lives easier going forward.\n",
        "\n",
        "Let's start with the most simple one!"
      ]
    },
    {
      "cell_type": "markdown",
      "metadata": {
        "id": "IDUnpEEl-L_F"
      },
      "source": [
        "#### Import Wall\n",
        "\n",
        "Here's a wall of imports we'll be needing going forward!"
      ]
    },
    {
      "cell_type": "code",
      "execution_count": 16,
      "metadata": {
        "id": "TbzoL3Q3-SG1"
      },
      "outputs": [],
      "source": [
        "from typing import Any, Callable, List, Optional, TypedDict, Union\n",
        "\n",
        "from langchain.agents import AgentExecutor, create_openai_functions_agent\n",
        "from langchain.output_parsers.openai_functions import JsonOutputFunctionsParser\n",
        "from langchain_core.prompts import ChatPromptTemplate, MessagesPlaceholder\n",
        "from langchain_core.messages import AIMessage, BaseMessage, HumanMessage\n",
        "from langchain_core.runnables import Runnable\n",
        "from langchain_core.tools import BaseTool\n",
        "from langchain_openai import ChatOpenAI\n",
        "\n",
        "from langgraph.graph import END, StateGraph"
      ]
    },
    {
      "cell_type": "markdown",
      "metadata": {
        "id": "qb6Z3EEz-Asi"
      },
      "source": [
        "### Agent Node Helper\n",
        "\n",
        "Since we're going to be wrapping each of our agents into a node - it will help to have an easy way to create the node!"
      ]
    },
    {
      "cell_type": "code",
      "execution_count": 17,
      "metadata": {
        "id": "5IF7KWfS-JKd"
      },
      "outputs": [],
      "source": [
        "def agent_node(state, agent, name):\n",
        "    result = agent.invoke(state)\n",
        "    return {\"messages\": [HumanMessage(content=result[\"output\"], name=name)]}"
      ]
    },
    {
      "cell_type": "markdown",
      "metadata": {
        "id": "fwND2teK-WHm"
      },
      "source": [
        "### Agent Creation Helper Function\n",
        "\n",
        "Since we know we'll need to create agents to populate our agent nodes, let's use a helper function for that as well!\n",
        "\n",
        "Notice a few things:\n",
        "\n",
        "1. We have a standard suffix to append to our system messages for each agent to handle the tool calling and boilerplate prompting.\n",
        "2. Each agent has its our scratchpad.\n",
        "3. We're relying on OpenAI's function-calling API for tool selection\n",
        "4. Each agent is its own executor."
      ]
    },
    {
      "cell_type": "code",
      "execution_count": 18,
      "metadata": {
        "id": "NxLyHJt5-eUx"
      },
      "outputs": [],
      "source": [
        "def create_agent(\n",
        "    llm: AzureChatOpenAI,\n",
        "    tools: list,\n",
        "    system_prompt: str,\n",
        ") -> str:\n",
        "    \"\"\"Create a function-calling agent and add it to the graph.\"\"\"\n",
        "    system_prompt += \"\\nWork autonomously according to your specialty, using the tools available to you.\"\n",
        "    \" Do not ask for clarification.\"\n",
        "    \" Your other team members (and other teams) will collaborate with you with their own specialties.\"\n",
        "    \" You are chosen for a reason! You are one of the following team members: {team_members}.\"\n",
        "    prompt = ChatPromptTemplate.from_messages(\n",
        "        [\n",
        "            (\n",
        "                \"system\",\n",
        "                system_prompt,\n",
        "            ),\n",
        "            MessagesPlaceholder(variable_name=\"messages\"),\n",
        "            MessagesPlaceholder(variable_name=\"agent_scratchpad\"),\n",
        "        ]\n",
        "    )\n",
        "    agent = create_openai_functions_agent(llm, tools, prompt)\n",
        "    executor = AgentExecutor(agent=agent, tools=tools)\n",
        "    return executor"
      ]
    },
    {
      "cell_type": "markdown",
      "metadata": {
        "id": "S6kmlR9d-1K5"
      },
      "source": [
        "### Supervisor Helper Function\n",
        "\n",
        "Finally, we need a \"supervisor\" that decides and routes tasks to specific agents.\n",
        "\n",
        "Since each \"team\" will have a collection of potential agents - this \"supervisor\" will act as an \"intelligent\" router to make sure that the right agent is selected for the right task.\n",
        "\n",
        "Notice that, at the end of the day, this \"supervisor\" is simply directing who acts next - or if the state is considered \"done\"."
      ]
    },
    {
      "cell_type": "code",
      "execution_count": 19,
      "metadata": {
        "id": "S2MXA83mrYE2"
      },
      "outputs": [],
      "source": [
        "def create_team_supervisor(llm: AzureChatOpenAI, system_prompt, members) -> str:\n",
        "    \"\"\"An LLM-based router.\"\"\"\n",
        "    options = [\"FINISH\"] + members\n",
        "    function_def = {\n",
        "        \"name\": \"route\",\n",
        "        \"description\": \"Select the next role.\",\n",
        "        \"parameters\": {\n",
        "            \"title\": \"routeSchema\",\n",
        "            \"type\": \"object\",\n",
        "            \"properties\": {\n",
        "                \"next\": {\n",
        "                    \"title\": \"Next\",\n",
        "                    \"anyOf\": [\n",
        "                        {\"enum\": options},\n",
        "                    ],\n",
        "                },\n",
        "            },\n",
        "            \"required\": [\"next\"],\n",
        "        },\n",
        "    }\n",
        "    prompt = ChatPromptTemplate.from_messages(\n",
        "        [\n",
        "            (\"system\", system_prompt),\n",
        "            MessagesPlaceholder(variable_name=\"messages\"),\n",
        "            (\n",
        "                \"system\",\n",
        "                \"Given the conversation above, who should act next?\"\n",
        "                \" Or should we FINISH? Select one of: {options}\",\n",
        "            ),\n",
        "        ]\n",
        "    ).partial(options=str(options), team_members=\", \".join(members))\n",
        "    return (\n",
        "        prompt\n",
        "        | llm.bind_functions(functions=[function_def], function_call=\"route\")\n",
        "        | JsonOutputFunctionsParser()\n",
        "    )"
      ]
    },
    {
      "cell_type": "markdown",
      "metadata": {
        "id": "jd0zfyq48jKb"
      },
      "source": [
        "## Research Team - A LangGraph for Researching A Specific Topic\n",
        "\n",
        "Now that we have our RAG chain set-up and some awesome helper functions, we want to create a LangGraph related to researching a specific topic.\n",
        "\n",
        "We're going to start by equipping our Research Team with a few tools:\n",
        "\n",
        "1. Tavily Search - aka \"Google\", for the most up to date information possible.\n",
        "2. Our RAG chain - specific and high quality information about our topic.\n",
        "\n",
        "Let's create those tools now!"
      ]
    },
    {
      "cell_type": "markdown",
      "metadata": {
        "id": "VNsVTZrH_alw"
      },
      "source": [
        "### Tool Creation\n",
        "\n",
        "As you can see below, some tools already come pre-packaged ready to use!"
      ]
    },
    {
      "cell_type": "code",
      "execution_count": 20,
      "metadata": {
        "id": "ce7FKTZDgAWG"
      },
      "outputs": [],
      "source": [
        "from langchain_community.tools.tavily_search import TavilySearchResults\n",
        "\n",
        "tavily_tool = TavilySearchResults(max_results=5)"
      ]
    },
    {
      "cell_type": "markdown",
      "metadata": {
        "id": "NIR7cbTL9agM"
      },
      "source": [
        "Creating a custom tool, however, is very straightforward.\n",
        "\n",
        "> NOTE: You *must* include a docstring, as that is what the LLM will consider when deciding when to use this tool."
      ]
    },
    {
      "cell_type": "code",
      "execution_count": 21,
      "metadata": {
        "id": "sSwO2L_UqFhm"
      },
      "outputs": [],
      "source": [
        "from typing import Annotated, List, Tuple, Union\n",
        "from langchain_core.tools import tool\n",
        "\n",
        "@tool\n",
        "def retrieve_information(\n",
        "    query: Annotated[str, \"query to ask the retrieve information tool\"]\n",
        "    ):\n",
        "  \"\"\"Use Retrieval Augmented Generation to retrieve information about the 'Extending Llama-3's Context Ten-Fold Overnight' paper.\"\"\"\n",
        "  return rag_chain.invoke({\"question\" : query})"
      ]
    },
    {
      "cell_type": "markdown",
      "metadata": {
        "id": "nxsMnqjpBTCj"
      },
      "source": [
        "> NOTE: We could just as easily use the LCEL chain directly, since nodes can be LCEL objects - but creating a tool helps explain the tool creation process at the same time."
      ]
    },
    {
      "cell_type": "markdown",
      "metadata": {
        "id": "oDHCajO4_gB2"
      },
      "source": [
        "### Research Team State\n",
        "\n",
        "Since we're using LangGraph - we're going to need state!\n",
        "\n",
        "Let's look at how we've created our state below."
      ]
    },
    {
      "cell_type": "code",
      "execution_count": 22,
      "metadata": {
        "id": "mXminK9d_1fa"
      },
      "outputs": [],
      "source": [
        "import functools\n",
        "import operator\n",
        "\n",
        "from langchain_core.messages import AIMessage, BaseMessage, HumanMessage\n",
        "from langchain_openai.chat_models import AzureChatOpenAI\n",
        "import functools\n",
        "\n",
        "class ResearchTeamState(TypedDict):\n",
        "    messages: Annotated[List[BaseMessage], operator.add]\n",
        "    team_members: List[str]\n",
        "    next: str"
      ]
    },
    {
      "cell_type": "markdown",
      "metadata": {
        "id": "fvPM5msq_18C"
      },
      "source": [
        "Notice how we've used `messages`, `team_members`, and `next`.\n",
        "\n",
        "These states will help us understand:\n",
        "\n",
        "1. What we've done so far (`messages`)\n",
        "2. Which team members we have access to (`team_members`)\n",
        "3. Which team member is up next! (`next`)"
      ]
    },
    {
      "cell_type": "markdown",
      "metadata": {
        "id": "Mu7B_6qHAFjK"
      },
      "source": [
        "### Research Team LLM\n",
        "\n",
        "We'll be using `gpt-4-1106-preview` today. This LLM is going to be doing a lot of reasoning - and so using a \"powerful\" LLM is very important here!"
      ]
    },
    {
      "cell_type": "code",
      "execution_count": 23,
      "metadata": {
        "id": "dTNqrip8AcKR"
      },
      "outputs": [],
      "source": [
        "llm = openai_chat_model"
      ]
    },
    {
      "cell_type": "markdown",
      "metadata": {
        "id": "ZR_1LuMKAekf"
      },
      "source": [
        "### Research Team Agents & Nodes\n",
        "\n",
        "Now we can use our helper functions to create our agent nodes, with their related tools.\n",
        "\n",
        "Let's start with our search agent node."
      ]
    },
    {
      "cell_type": "markdown",
      "metadata": {
        "id": "uzx6wuPoAlPq"
      },
      "source": [
        "#### Research Team: Search Agent\n",
        "\n",
        "We're going to give our agent access to the Tavily tool, power it with our GPT-4 Turbo model, and then create its node - and name it `Search`."
      ]
    },
    {
      "cell_type": "code",
      "execution_count": 24,
      "metadata": {
        "id": "FIlLPxj7Atpj"
      },
      "outputs": [],
      "source": [
        "search_agent = create_agent(\n",
        "    llm,\n",
        "    [tavily_tool],\n",
        "    \"You are a research assistant who can search for up-to-date info using the tavily search engine.\",\n",
        ")\n",
        "search_node = functools.partial(agent_node, agent=search_agent, name=\"Search\")"
      ]
    },
    {
      "cell_type": "markdown",
      "metadata": {
        "id": "emLtesudA9Dd"
      },
      "source": [
        "#### Research Team: RAG Agent Node\n",
        "\n",
        "Now we can wrap our LCEL RAG pipeline in an agent node as well, using the LCEL RAG pipeline as the tool, as created above."
      ]
    },
    {
      "cell_type": "code",
      "execution_count": 25,
      "metadata": {
        "id": "z-nnAG9XA_p7"
      },
      "outputs": [],
      "source": [
        "research_agent = create_agent(\n",
        "    llm,\n",
        "    [retrieve_information],\n",
        "    \"You are a research assistant who can provide specific information on the provided paper: 'Extending Llama-3's Context Ten-Fold Overnight'\",\n",
        ")\n",
        "research_node = functools.partial(agent_node, agent=research_agent, name=\"PaperInformationRetriever\")"
      ]
    },
    {
      "cell_type": "markdown",
      "metadata": {
        "id": "dA5z6T1CBeSc"
      },
      "source": [
        "### Research Team Supervisor Agent\n",
        "\n",
        "Notice that we're not yet creating our supervisor *node*, simply the agent here.\n",
        "\n",
        "Also notice how we need to provide a few extra pieces of information - including which tools we're using.\n",
        "\n",
        "> NOTE: It's important to use the *exact* tool name, as that is how the LLM will reference the tool. Also, it's important that your tool name is all a single alphanumeric string!\n",
        "\n"
      ]
    },
    {
      "cell_type": "code",
      "execution_count": 26,
      "metadata": {
        "id": "J0g8CQMBrtFs"
      },
      "outputs": [],
      "source": [
        "supervisor_agent = create_team_supervisor(\n",
        "    llm,\n",
        "    \"You are a supervisor tasked with managing a conversation between the\"\n",
        "    \" following workers:  Search, PaperInformationRetriever. Given the following user request,\"\n",
        "    \" respond with the worker to act next. Each worker will perform a\"\n",
        "    \" task and respond with their results and status. When finished,\"\n",
        "    \" respond with FINISH.\",\n",
        "    [\"Search\", \"PaperInformationRetriever\"],\n",
        ")"
      ]
    },
    {
      "cell_type": "markdown",
      "metadata": {
        "id": "qohn0DcgB_U1"
      },
      "source": [
        "### Research Team Graph Creation\n",
        "\n",
        "Now that we have our research team agent nodes created, and our supervisor agent - let's finally construct our graph!\n",
        "\n",
        "We'll start by creating our base graph from our state, and then adding the nodes/agent we've created as nodes on our LangGraph."
      ]
    },
    {
      "cell_type": "code",
      "execution_count": 27,
      "metadata": {
        "id": "p0s2GAgJCN8G"
      },
      "outputs": [],
      "source": [
        "research_graph = StateGraph(ResearchTeamState)\n",
        "\n",
        "research_graph.add_node(\"Search\", search_node)\n",
        "research_graph.add_node(\"PaperInformationRetriever\", research_node)\n",
        "research_graph.add_node(\"supervisor\", supervisor_agent)"
      ]
    },
    {
      "cell_type": "markdown",
      "metadata": {
        "id": "33qixRGNCaAX"
      },
      "source": [
        "Now we can define our edges - include our conditional edge from our supervisor to our agent nodes.\n",
        "\n",
        "Notice how we're always routing our agent nodes back to our supervisor!"
      ]
    },
    {
      "cell_type": "code",
      "execution_count": 28,
      "metadata": {
        "id": "yYSJIhijsGyg"
      },
      "outputs": [],
      "source": [
        "research_graph.add_edge(\"Search\", \"supervisor\")\n",
        "research_graph.add_edge(\"PaperInformationRetriever\", \"supervisor\")\n",
        "research_graph.add_conditional_edges(\n",
        "    \"supervisor\",\n",
        "    lambda x: x[\"next\"],\n",
        "    {\"Search\": \"Search\", \"PaperInformationRetriever\": \"PaperInformationRetriever\", \"FINISH\": END},\n",
        ")"
      ]
    },
    {
      "cell_type": "markdown",
      "metadata": {
        "id": "hgGcuZzkCj1-"
      },
      "source": [
        "Now we can set our supervisor node as the entry point, and compile our graph!"
      ]
    },
    {
      "cell_type": "code",
      "execution_count": 29,
      "metadata": {
        "id": "1l-1I2Z3CnPX"
      },
      "outputs": [],
      "source": [
        "research_graph.set_entry_point(\"supervisor\")\n",
        "chain = research_graph.compile()"
      ]
    },
    {
      "cell_type": "markdown",
      "metadata": {
        "id": "GDwQpYTSEY13"
      },
      "source": [
        "#### Display Graph"
      ]
    },
    {
      "cell_type": "code",
      "execution_count": 30,
      "metadata": {
        "colab": {
          "base_uri": "https://localhost:8080/"
        },
        "id": "pzRE5ldzFlLQ",
        "outputId": "21444e0e-ac9f-4310-c3a1-4e825048e3b3"
      },
      "outputs": [
        {
          "name": "stdout",
          "output_type": "stream",
          "text": [
            "Note: you may need to restart the kernel to use updated packages.\n"
          ]
        }
      ],
      "source": [
        "%pip install -qU python_mermaid"
      ]
    },
    {
      "cell_type": "code",
      "execution_count": 73,
      "metadata": {
        "colab": {
          "base_uri": "https://localhost:8080/",
          "height": 422
        },
        "id": "l8n6SXhpEa2b",
        "outputId": "5f0338c3-4e3e-4dea-98b8-c735f85d4295"
      },
      "outputs": [
        {
          "data": {
            "image/jpeg": "[encoded data removed]",
            "text/plain": [
              "<IPython.core.display.Image object>"
            ]
          },
          "metadata": {},
          "output_type": "display_data"
        }
      ],
      "source": [
        "from IPython.display import Image, display\n",
        "\n",
        "try:\n",
        "    display(Image(chain.get_graph(xray=True).draw_mermaid_png()))\n",
        "except:\n",
        "    pass"
      ]
    },
    {
      "cell_type": "markdown",
      "metadata": {
        "id": "bfRvA2QfCqFL"
      },
      "source": [
        "The next part is key - since we need to \"wrap\" our LangGraph in order for it to be compatible in the following steps - let's create an LCEL chain out of it!\n",
        "\n",
        "This allows us to \"broadcast\" messages down to our Research Team LangGraph!"
      ]
    },
    {
      "cell_type": "code",
      "execution_count": 32,
      "metadata": {
        "id": "1G7hmEINCx3i"
      },
      "outputs": [],
      "source": [
        "def enter_chain(message: str):\n",
        "    results = {\n",
        "        \"messages\": [HumanMessage(content=message)],\n",
        "    }\n",
        "    return results\n",
        "\n",
        "research_chain = enter_chain | chain"
      ]
    },
    {
      "cell_type": "markdown",
      "metadata": {
        "id": "EGdoCdXWC7Pi"
      },
      "source": [
        "Now, finally, we can take it for a spin!"
      ]
    },
    {
      "cell_type": "code",
      "execution_count": 33,
      "metadata": {
        "colab": {
          "base_uri": "https://localhost:8080/"
        },
        "id": "xIDpFIg2sRUl",
        "outputId": "70944fda-4b2b-497c-f5cd-3346620985fb"
      },
      "outputs": [
        {
          "name": "stdout",
          "output_type": "stream",
          "text": [
            "{'supervisor': {'next': 'Search'}}\n",
            "---\n",
            "{'Search': {'messages': [HumanMessage(content='The paper \"Extending Llama-3\\'s Context Ten-Fold Overnight\" presents several key takeaways:\\n\\n1. **Context Extension**: The authors extend the context length of Llama-3-8B-Instruct from 8K tokens to 80K tokens.\\n2. **QLoRA Fine-Tuning**: This increase in context length is achieved through QLoRA fine-tuning.\\n3. **Training Efficiency**: The training process is highly efficient, taking only 8 hours on a single machine equipped with 8xA800 (80G) GPUs.\\n4. **Performance**: The resulting model exhibits superior performance across a wide range of evaluation tasks, including NIHS and topic retrieval, especially for long-context language tasks.\\n\\nFor more detailed information, you can refer to the full paper available on [Arxiv](https://arxiv.org/abs/2404.19553).', name='Search')]}}\n",
            "---\n",
            "{'supervisor': {'next': 'PaperInformationRetriever'}}\n",
            "---\n",
            "{'PaperInformationRetriever': {'messages': [HumanMessage(content='The paper \"Extending Llama-3\\'s Context Ten-Fold Overnight\" presents several key takeaways:\\n\\n1. **Context Extension**: The authors extended the context length of Llama-3-8B-Instruct from 8,000 tokens to 80,000 tokens using QLoRA fine-tuning.\\n\\n2. **Efficiency**: The fine-tuning was highly efficient, taking only 8 hours on a machine equipped with eight A800 (80G) GPUs.\\n\\n3. **Training Data**: They achieved the context extension with just 3.5K synthetic training samples generated by GPT-4, highlighting the significant potential of LLMs for context extension.\\n\\n4. **Performance**: The extended model (Llama-3-8B-Instruct-80K-QLoRA) demonstrated superior performance across various evaluation tasks, including NIHS, topic retrieval, and long-context language understanding, while maintaining capabilities for shorter contexts.\\n\\n5. **Training Details**: They used a dataset created by mixing 5K instances from RedPajama and 12K instruction tuning instances from LongAlpaca, totaling 20K instances. The QLoRA technique was employed with specific parameters for LoRA rank and alpha, and gradient checkpointing was enabled.\\n\\n6. **Model Release**: All resources, including data, models, data generation pipeline, and training code, are planned for public release.\\n\\n7. **Potential for Further Extension**: The context length could be extended beyond 80K tokens with more computational resources.\\n\\nThese points summarize the key contributions and findings of the paper.', name='PaperInformationRetriever')]}}\n",
            "---\n",
            "{'supervisor': {'next': 'FINISH'}}\n",
            "---\n"
          ]
        }
      ],
      "source": [
        "for s in research_chain.stream(\n",
        "    \"What are the main takeaways from the paper `Extending Llama-3's Context Ten-Fold Overnight'? Please use Search and PaperInformationRetriever!\", {\"recursion_limit\": 100}\n",
        "):\n",
        "    if \"__end__\" not in s:\n",
        "        print(s)\n",
        "        print(\"---\")"
      ]
    },
    {
      "cell_type": "markdown",
      "metadata": {
        "id": "ejsHCZZ2EmwM"
      },
      "source": [
        "## Document Writing Team - A LangGraph for Writing, Editing, and Planning a Blog\n",
        "\n",
        "Let's run it all back, this time specifically creating tools, agent nodes, and a graph for planning, writing, and editing a technical blog!"
      ]
    },
    {
      "cell_type": "markdown",
      "metadata": {
        "id": "4awQtZ-oFUN-"
      },
      "source": [
        "### Tool Creation\n",
        "\n",
        "Let's create some tools that will help us understand, open, work with, and edit documents to our liking!"
      ]
    },
    {
      "cell_type": "code",
      "execution_count": 50,
      "metadata": {
        "id": "ptXilgparOkq"
      },
      "outputs": [],
      "source": [
        "from pathlib import Path\n",
        "from tempfile import TemporaryDirectory\n",
        "from typing import Dict, Optional\n",
        "from typing_extensions import TypedDict\n",
        "\n",
        "_TEMP_DIRECTORY = TemporaryDirectory()\n",
        "WORKING_DIRECTORY = Path(f\"{os.getcwd()}\\\\data\")\n",
        "\n",
        "\n",
        "@tool\n",
        "def create_outline(\n",
        "    points: Annotated[List[str], \"List of main points or sections.\"],\n",
        "    file_name: Annotated[str, \"File path to save the outline.\"],\n",
        ") -> Annotated[str, \"Path of the saved outline file.\"]:\n",
        "    \"\"\"Create and save an outline.\"\"\"\n",
        "    with (WORKING_DIRECTORY / file_name).open(\"w\") as file:\n",
        "        for i, point in enumerate(points):\n",
        "            file.write(f\"{i + 1}. {point}\\n\")\n",
        "    return f\"Outline saved to {file_name}\"\n",
        "\n",
        "\n",
        "@tool\n",
        "def read_document(\n",
        "    file_name: Annotated[str, \"File path to save the document.\"],\n",
        "    start: Annotated[Optional[int], \"The start line. Default is 0\"] = None,\n",
        "    end: Annotated[Optional[int], \"The end line. Default is None\"] = None,\n",
        ") -> str:\n",
        "    \"\"\"Read the specified document.\"\"\"\n",
        "    with (WORKING_DIRECTORY / file_name).open(\"r\") as file:\n",
        "        lines = file.readlines()\n",
        "    if start is not None:\n",
        "        start = 0\n",
        "    return \"\\n\".join(lines[start:end])\n",
        "\n",
        "\n",
        "@tool\n",
        "def write_document(\n",
        "    content: Annotated[str, \"Text content to be written into the document.\"],\n",
        "    file_name: Annotated[str, \"File path to save the document.\"],\n",
        ") -> Annotated[str, \"Path of the saved document file.\"]:\n",
        "    \"\"\"Create and save a text document.\"\"\"\n",
        "    with (WORKING_DIRECTORY / file_name).open(\"w\") as file:\n",
        "        file.write(content)\n",
        "    return f\"Document saved to {file_name}\"\n",
        "\n",
        "\n",
        "@tool\n",
        "def edit_document(\n",
        "    file_name: Annotated[str, \"Path of the document to be edited.\"],\n",
        "    inserts: Annotated[\n",
        "        Dict[int, str],\n",
        "        \"Dictionary where key is the line number (1-indexed) and value is the text to be inserted at that line.\",\n",
        "    ],\n",
        ") -> Annotated[str, \"Path of the edited document file.\"]:\n",
        "    \"\"\"Edit a document by inserting text at specific line numbers.\"\"\"\n",
        "\n",
        "    with (WORKING_DIRECTORY / file_name).open(\"r\") as file:\n",
        "        lines = file.readlines()\n",
        "\n",
        "    sorted_inserts = sorted(inserts.items())\n",
        "\n",
        "    for line_number, text in sorted_inserts:\n",
        "        if 1 <= line_number <= len(lines) + 1:\n",
        "            lines.insert(line_number - 1, text + \"\\n\")\n",
        "        else:\n",
        "            return f\"Error: Line number {line_number} is out of range.\"\n",
        "\n",
        "    with (WORKING_DIRECTORY / file_name).open(\"w\") as file:\n",
        "        file.writelines(lines)\n",
        "\n",
        "    return f\"Document edited and saved to {file_name}\""
      ]
    },
    {
      "cell_type": "markdown",
      "metadata": {
        "id": "__Jw_XBIFwwa"
      },
      "source": [
        "### Document Writing State\n",
        "\n",
        "Just like with our Research Team state - we want to keep track of a few things, however this time - we also want to keep track of which files we've created - so let's add that here!"
      ]
    },
    {
      "cell_type": "code",
      "execution_count": 51,
      "metadata": {
        "id": "DoU2YwJRu7wD"
      },
      "outputs": [],
      "source": [
        "import operator\n",
        "from pathlib import Path\n",
        "\n",
        "class DocWritingState(TypedDict):\n",
        "    messages: Annotated[List[BaseMessage], operator.add]\n",
        "    team_members: str\n",
        "    next: str\n",
        "    current_files: str"
      ]
    },
    {
      "cell_type": "markdown",
      "metadata": {
        "id": "4p1kQShmGHCh"
      },
      "source": [
        "### Document Writing Prelude Function\n",
        "\n",
        "Since we have a working directory - we want to be clear about what our current working directory looks like - this helper function will allow us to do that cleanly!"
      ]
    },
    {
      "cell_type": "code",
      "execution_count": 52,
      "metadata": {
        "id": "G79mUggQGLVq"
      },
      "outputs": [],
      "source": [
        "def prelude(state):\n",
        "    written_files = []\n",
        "    if not WORKING_DIRECTORY.exists():\n",
        "        WORKING_DIRECTORY.mkdir()\n",
        "    try:\n",
        "        written_files = [\n",
        "            f.relative_to(WORKING_DIRECTORY) for f in WORKING_DIRECTORY.rglob(\"*\")\n",
        "        ]\n",
        "    except:\n",
        "        pass\n",
        "    if not written_files:\n",
        "        return {**state, \"current_files\": \"No files written.\"}\n",
        "    return {\n",
        "        **state,\n",
        "        \"current_files\": \"\\nBelow are files your team has written to the directory:\\n\"\n",
        "        + \"\\n\".join([f\" - {f}\" for f in written_files]),\n",
        "    }"
      ]
    },
    {
      "cell_type": "markdown",
      "metadata": {
        "id": "wbSre9agT9Gb"
      },
      "source": [
        "### Document Writing Node Creation\n",
        "\n"
      ]
    },
    {
      "cell_type": "code",
      "execution_count": 53,
      "metadata": {
        "id": "v7oso327T_wa"
      },
      "outputs": [],
      "source": [
        "doc_writer_agent = create_agent(\n",
        "    llm,\n",
        "    [write_document, edit_document, read_document],\n",
        "    \"You are an expert writing a technical blog.\\n\"\n",
        "    \"Below are files currently in your directory:\\n{current_files}\",\n",
        ")\n",
        "context_aware_doc_writer_agent = prelude | doc_writer_agent\n",
        "doc_writing_node = functools.partial(\n",
        "    agent_node, agent=context_aware_doc_writer_agent, name=\"DocWriter\"\n",
        ")\n",
        "\n",
        "note_taking_agent = create_agent(\n",
        "    llm,\n",
        "    [create_outline, read_document],\n",
        "    \"You are an expert senior researcher tasked with writing a blog outline and taking notes to craft a blog.{current_files}\",\n",
        ")\n",
        "context_aware_note_taking_agent = prelude | note_taking_agent\n",
        "note_taking_node = functools.partial(\n",
        "    agent_node, agent=context_aware_note_taking_agent, name=\"NoteTaker\"\n",
        ")\n",
        "\n",
        "copy_editor_agent = create_agent(\n",
        "    llm,\n",
        "    [write_document, edit_document, read_document],\n",
        "    \"You are an expert copy editor who focuses on fixing grammar, spelling, and tone issues\\n\"\n",
        "    \"Below are files currently in your directory:\\n{current_files}\",\n",
        ")\n",
        "context_aware_copy_editor_agent = prelude | copy_editor_agent\n",
        "copy_editing_node = functools.partial(\n",
        "    agent_node, agent=context_aware_copy_editor_agent, name=\"CopyEditor\"\n",
        ")\n",
        "\n",
        "dopeness_editor_agent = create_agent(\n",
        "    llm,\n",
        "    [write_document, edit_document, read_document],\n",
        "    \"You are an expert in dopeness, litness, coolness, etc - you edit the document to make sure it's dope.\"\n",
        "    \"Below are files currently in your directory:\\n{current_files}\",\n",
        ")\n",
        "context_aware_dopeness_editor_agent = prelude | dopeness_editor_agent\n",
        "dopeness_node = functools.partial(\n",
        "    agent_node, agent=context_aware_dopeness_editor_agent, name=\"DopenessEditor\"\n",
        ")\n",
        "\n",
        "doc_writing_supervisor = create_team_supervisor(\n",
        "    llm,\n",
        "    \"You are a supervisor tasked with managing a conversation between the\"\n",
        "    \" following workers:  {team_members}. You should always verify the technical\"\n",
        "    \" contents after any edits are made. \"\n",
        "    \"Given the following user request,\"\n",
        "    \" respond with the worker to act next. Each worker will perform a\"\n",
        "    \" task and respond with their results and status. When finished,\"\n",
        "    \" respond with FINISH.\",\n",
        "    [\"DocWriter\", \"NoteTaker\", \"DopenessEditor\", \"CopyEditor\"],\n",
        ")"
      ]
    },
    {
      "cell_type": "markdown",
      "metadata": {
        "id": "AUiNMpJBGXN0"
      },
      "source": [
        "### Document Writing Team LangGraph Construction\n",
        "\n",
        "This part is almost exactly the same (with a few extra nodes) as our Research Team LangGraph construction - so we'll leave it as one block!"
      ]
    },
    {
      "cell_type": "code",
      "execution_count": 54,
      "metadata": {
        "id": "Q6n8A1ytxVTv"
      },
      "outputs": [],
      "source": [
        "authoring_graph = StateGraph(DocWritingState)\n",
        "authoring_graph.add_node(\"DocWriter\", doc_writing_node)\n",
        "authoring_graph.add_node(\"NoteTaker\", note_taking_node)\n",
        "authoring_graph.add_node(\"CopyEditor\", copy_editing_node)\n",
        "authoring_graph.add_node(\"DopenessEditor\", dopeness_node)\n",
        "authoring_graph.add_node(\"supervisor\", doc_writing_supervisor)\n",
        "\n",
        "authoring_graph.add_edge(\"DocWriter\", \"supervisor\")\n",
        "authoring_graph.add_edge(\"NoteTaker\", \"supervisor\")\n",
        "authoring_graph.add_edge(\"CopyEditor\", \"supervisor\")\n",
        "authoring_graph.add_edge(\"DopenessEditor\", \"supervisor\")\n",
        "\n",
        "authoring_graph.add_conditional_edges(\n",
        "    \"supervisor\",\n",
        "    lambda x: x[\"next\"],\n",
        "    {\n",
        "        \"DocWriter\": \"DocWriter\",\n",
        "        \"NoteTaker\": \"NoteTaker\",\n",
        "        \"CopyEditor\" : \"CopyEditor\",\n",
        "        \"DopenessEditor\" : \"DopenessEditor\",\n",
        "        \"FINISH\": END,\n",
        "    },\n",
        ")\n",
        "\n",
        "authoring_graph.set_entry_point(\"supervisor\")\n",
        "chain = authoring_graph.compile()"
      ]
    },
    {
      "cell_type": "markdown",
      "metadata": {
        "id": "Zx-EKGkHKUBO"
      },
      "source": [
        "#### Display Graph"
      ]
    },
    {
      "cell_type": "code",
      "execution_count": 74,
      "metadata": {
        "colab": {
          "base_uri": "https://localhost:8080/",
          "height": 422
        },
        "id": "AZdOb3GZKSM7",
        "outputId": "2ade3558-82e6-47d3-deb5-eec545348a92"
      },
      "outputs": [
        {
          "data": {
            "image/jpeg": "[encoded data removed]",
            "text/plain": [
              "<IPython.core.display.Image object>"
            ]
          },
          "metadata": {},
          "output_type": "display_data"
        }
      ],
      "source": [
        "from IPython.display import Image, display\n",
        "\n",
        "try:\n",
        "    display(Image(chain.get_graph(xray=True).draw_mermaid_png()))\n",
        "except:\n",
        "    pass"
      ]
    },
    {
      "cell_type": "markdown",
      "metadata": {
        "id": "yB_rOw1hGpwd"
      },
      "source": [
        "Just as before - we'll need to create an \"interface\" between the level above, and our graph."
      ]
    },
    {
      "cell_type": "code",
      "execution_count": 56,
      "metadata": {
        "id": "G-RbbCKoG_nt"
      },
      "outputs": [],
      "source": [
        "def enter_chain(message: str, members: List[str]):\n",
        "    results = {\n",
        "        \"messages\": [HumanMessage(content=message)],\n",
        "        \"team_members\": \", \".join(members),\n",
        "    }\n",
        "    return results\n",
        "\n",
        "authoring_chain = (\n",
        "    functools.partial(enter_chain, members=authoring_graph.nodes)\n",
        "    | authoring_graph.compile()\n",
        ")"
      ]
    },
    {
      "cell_type": "markdown",
      "metadata": {
        "id": "GgyhpTrRNgQd"
      },
      "source": [
        "Now we can test this out!"
      ]
    },
    {
      "cell_type": "code",
      "execution_count": 59,
      "metadata": {
        "colab": {
          "base_uri": "https://localhost:8080/"
        },
        "id": "IWUxv4XDx3kg",
        "outputId": "38a6e2c1-ef40-4a89-f05e-d6f7d898cd1c"
      },
      "outputs": [
        {
          "name": "stdout",
          "output_type": "stream",
          "text": [
            "{'supervisor': {'next': 'DocWriter'}}\n",
            "---\n",
            "{'DocWriter': {'messages': [HumanMessage(content='The outline for the short technical blog on Linear Regression has been successfully saved to the file `linear_regression_blog_outline.txt`.\\n\\nIs there anything else you would like to do with this outline or any other topic you want to explore?', name='DocWriter')]}}\n",
            "---\n",
            "{'supervisor': {'next': 'NoteTaker'}}\n",
            "---\n",
            "{'NoteTaker': {'messages': [HumanMessage(content=\"Here is the detailed outline for a short technical blog on Linear Regression:\\n\\n### Title: Understanding Linear Regression: A Beginner's Guide\\n\\n#### Introduction\\n- Brief overview of the importance of linear regression in data science and machine learning.\\n- Statement of the purpose of the blog.\\n\\n#### What is Linear Regression?\\n- Definition and basic concept.\\n- Historical context and development.\\n\\n#### The Mathematics Behind Linear Regression\\n- Explanation of the linear equation (y = mx + b).\\n- Description of parameters: slope (m) and intercept (b).\\n\\n#### Types of Linear Regression\\n- Simple Linear Regression.\\n- Multiple Linear Regression.\\n\\n#### How Linear Regression Works\\n- Explanation of the least squares method.\\n- Concept of the cost function.\\n\\n#### Assumptions of Linear Regression\\n- Linearity\\n- Independence\\n- Homoscedasticity\\n- Normality\\n\\n#### Advantages and Disadvantages\\n- Pros of using linear regression.\\n- Cons and limitations.\\n\\n#### Applications of Linear Regression\\n- Real-world examples and use cases.\\n\\n#### Conclusion\\n- Summary of key points.\\n- Encouragement to explore further.\\n\\nWould you like to proceed with drafting the blog based on this outline, or is there any specific section you would like to expand upon?\", name='NoteTaker')]}}\n",
            "---\n",
            "{'supervisor': {'next': 'DocWriter'}}\n",
            "---\n",
            "{'DocWriter': {'messages': [HumanMessage(content='The outline for the linear regression blog has been successfully saved to `linear_regression_blog_outline.txt`.\\n\\nIs there anything else you would like to do or any other specific sections you would like to expand upon?', name='DocWriter')]}}\n",
            "---\n",
            "{'supervisor': {'next': 'DocWriter'}}\n",
            "---\n",
            "{'DocWriter': {'messages': [HumanMessage(content=\"I see you've provided a detailed outline for the blog on linear regression. Let's proceed by drafting the blog based on this outline.\\n\\n### Title: Understanding Linear Regression: A Beginner's Guide\\n\\n#### Introduction\\nLinear regression is a fundamental tool in data science and machine learning, used to model the relationship between a dependent variable and one or more independent variables. This blog aims to provide a comprehensive yet straightforward introduction to linear regression, covering its basic concepts, mathematical foundations, types, working mechanisms, assumptions, advantages, disadvantages, and real-world applications.\\n\\n#### What is Linear Regression?\\nLinear regression is a statistical method for predicting the value of a dependent variable based on the value of one or more independent variables. It finds the linear relationship between the variables. This technique dates back to the early 19th century when it was developed by Francis Galton and later formalized by Karl Pearson.\\n\\n#### The Mathematics Behind Linear Regression\\nThe core of linear regression is the linear equation:\\n\\\\[ y = mx + b \\\\]\\nHere:\\n- \\\\( y \\\\) is the dependent variable.\\n- \\\\( x \\\\) is the independent variable.\\n- \\\\( m \\\\) is the slope of the line, which represents the change in \\\\( y \\\\) for a one-unit change in \\\\( x \\\\).\\n- \\\\( b \\\\) is the intercept, which is the value of \\\\( y \\\\) when \\\\( x \\\\) is zero.\\n\\n#### Types of Linear Regression\\n1. **Simple Linear Regression**: Involves one independent variable to predict a dependent variable.\\n2. **Multiple Linear Regression**: Involves two or more independent variables to predict a dependent variable.\\n\\n#### How Linear Regression Works\\nLinear regression uses the least squares method to find the best-fitting line through the data points. The goal is to minimize the sum of the squares of the residuals (the differences between the observed and predicted values). The cost function, often represented as Mean Squared Error (MSE), is used to measure this discrepancy.\\n\\n#### Assumptions of Linear Regression\\n1. **Linearity**: The relationship between the independent and dependent variables should be linear.\\n2. **Independence**: The residuals (errors) should be independent.\\n3. **Homoscedasticity**: The variance of residuals should be constant across all levels of the independent variable.\\n4. **Normality**: The residuals should be normally distributed.\\n\\n#### Advantages and Disadvantages\\n**Advantages**:\\n- Simple to understand and implement.\\n- Computationally efficient.\\n- Provides interpretable results.\\n\\n**Disadvantages**:\\n- Assumes a linear relationship.\\n- Sensitive to outliers.\\n- Can be prone to overfitting with multiple variables.\\n\\n#### Applications of Linear Regression\\nLinear regression is widely used in various fields such as finance (predicting stock prices), economics (forecasting economic growth), healthcare (predicting disease progression), and many more.\\n\\n#### Conclusion\\nLinear regression is a powerful yet simple tool for predictive modeling. Its ease of use and interpretability make it an essential technique for data scientists and machine learning practitioners. To gain a deeper understanding, one should explore more advanced topics and practical applications.\\n\\nWould you like to save this draft to a file, or would you like to make any changes?\", name='DocWriter')]}}\n",
            "---\n",
            "{'supervisor': {'next': 'CopyEditor'}}\n",
            "---\n",
            "{'CopyEditor': {'messages': [HumanMessage(content='The draft for the blog on linear regression has been successfully saved to `linear_regression_blog_draft.txt`.\\n\\nIs there anything else you would like to do with this draft or any other assistance you need?', name='CopyEditor')]}}\n",
            "---\n",
            "{'supervisor': {'next': 'CopyEditor'}}\n",
            "---\n",
            "{'CopyEditor': {'messages': [HumanMessage(content=\"The draft for the blog on linear regression has been successfully saved to `linear_regression_blog_draft.txt`.\\n\\nIs there anything else you need assistance with or any other edits you'd like to make?\", name='CopyEditor')]}}\n",
            "---\n",
            "{'supervisor': {'next': 'DopenessEditor'}}\n",
            "---\n",
            "{'DopenessEditor': {'messages': [HumanMessage(content=\"Let's add some flair to make this blog dope and engaging! We'll sprinkle in some cool and relatable language, add some fun examples, and maybe throw in a meme or two to keep it lit.\\n\\n### Title: Understanding Linear Regression: A Beginner's Guide\\n\\n#### Introduction\\nLinear regression is a fundamental tool in data science and machine learning, used to model the relationship between a dependent variable and one or more independent variables. This blog aims to provide a comprehensive yet straightforward introduction to linear regression, covering its basic concepts, mathematical foundations, types, working mechanisms, assumptions, advantages, disadvantages, and real-world applications.\\n\\n#### What is Linear Regression?\\nLinear regression is a statistical method for predicting the value of a dependent variable based on the value of one or more independent variables. It finds the linear relationship between the variables. This technique dates back to the early 19th century when it was developed by Francis Galton and later formalized by Karl Pearson.\\n\\n#### The Mathematics Behind Linear Regression\\nThe core of linear regression is the linear equation:\\n\\\\[ y = mx + b \\\\]\\nHere:\\n- \\\\( y \\\\) is the dependent variable.\\n- \\\\( x \\\\) is the independent variable.\\n- \\\\( m \\\\) is the slope of the line, which represents the change in \\\\( y \\\\) for a one-unit change in \\\\( x \\\\).\\n- \\\\( b \\\\) is the intercept, which is the value of \\\\( y \\\\) when \\\\( x \\\\) is zero.\\n\\n#### Types of Linear Regression\\n1. **Simple Linear Regression**: Involves one independent variable to predict a dependent variable.\\n2. **Multiple Linear Regression**: Involves two or more independent variables to predict a dependent variable.\\n\\n#### How Linear Regression Works\\nLinear regression uses the least squares method to find the best-fitting line through the data points. The goal is to minimize the sum of the squares of the residuals (the differences between the observed and predicted values). The cost function, often represented as Mean Squared Error (MSE), is used to measure this discrepancy.\\n\\n#### Assumptions of Linear Regression\\n1. **Linearity**: The relationship between the independent and dependent variables should be linear.\\n2. **Independence**: The residuals (errors) should be independent.\\n3. **Homoscedasticity**: The variance of residuals should be constant across all levels of the independent variable.\\n4. **Normality**: The residuals should be normally distributed.\\n\\n#### Advantages and Disadvantages\\n**Advantages**:\\n- Simple to understand and implement.\\n- Computationally efficient.\\n- Provides interpretable results.\\n\\n**Disadvantages**:\\n- Assumes a linear relationship.\\n- Sensitive to outliers.\\n- Can be prone to overfitting with multiple variables.\\n\\n#### Applications of Linear Regression\\nLinear regression is widely used in various fields such as finance (predicting stock prices), economics (forecasting economic growth), healthcare (predicting disease progression), and many more.\\n\\n#### Conclusion\\nLinear regression is a powerful yet simple tool for predictive modeling. Its ease of use and interpretability make it an essential technique for data scientists and machine learning practitioners. To gain a deeper understanding, one should explore more advanced topics and practical applications.\\n\\nWould you like to save this draft to a file, or would you like to make any changes?\", name='DopenessEditor')]}}\n",
            "---\n",
            "{'supervisor': {'next': 'CopyEditor'}}\n",
            "---\n",
            "{'CopyEditor': {'messages': [HumanMessage(content=\"The updated and engaging draft has been successfully saved to `linear_regression_blog_draft.txt`.\\n\\nIs there anything else you'd like to do with this draft or any other assistance you need?\", name='CopyEditor')]}}\n",
            "---\n",
            "{'supervisor': {'next': 'CopyEditor'}}\n",
            "---\n",
            "{'CopyEditor': {'messages': [HumanMessage(content='The blog draft looks good, but let\\'s add some final touches for clarity and engagement:\\n\\n---\\n\\n### Title: Understanding Linear Regression: A Beginner\\'s Guide\\n\\n#### Introduction\\nHey there, data enthusiasts! 🖐️ Ever wondered how Netflix knows what show you\\'ll binge next or how your favorite store knows just when to send you that irresistible coupon? One of the secret sauces behind these tricks is **linear regression**. This blog will take you on a chill ride through the basics of linear regression, its math (don\\'t worry, we\\'ll keep it light), different types, how it works, assumptions, pros and cons, and some cool real-world applications. Ready? Let\\'s dive in!\\n\\n#### What is Linear Regression?\\nImagine you\\'re at a party 🎉, and you notice a pattern: the more people drink coffee, the louder they get. Linear regression is like the detective that finds these kinds of relationships between variables. It\\'s a statistical method that helps in predicting the value of a dependent variable (like loudness) based on the value of one or more independent variables (like coffee consumption). This technique has been around since the 19th century, thanks to the brainy work of Francis Galton and Karl Pearson.\\n\\n#### The Mathematics Behind Linear Regression\\nAlright, let\\'s talk numbers, but we\\'ll keep it breezy. The magic formula of linear regression is:\\n\\n\\\\[ y = mx + b \\\\]\\n\\nHere:\\n- \\\\( y \\\\) is the dependent variable (what you\\'re trying to predict).\\n- \\\\( x \\\\) is the independent variable (the predictor).\\n- \\\\( m \\\\) is the slope (how much \\\\( y \\\\) changes for a one-unit change in \\\\( x \\\\)).\\n- \\\\( b \\\\) is the intercept (the starting point of \\\\( y \\\\) when \\\\( x \\\\) is zero).\\n\\nThink of it like this: if life is a road trip 🚗, \\\\( m \\\\) tells you how steep the hill is, and \\\\( b \\\\) tells you where you started.\\n\\n#### Types of Linear Regression\\n1. **Simple Linear Regression**: This is the one-on-one date of regression, involving a single predictor to forecast the outcome.\\n2. **Multiple Linear Regression**: Think of this as a party 🎊, with several predictors joining in to forecast the outcome.\\n\\n#### How Linear Regression Works\\nLinear regression is like a tailor 🧵. It tries to fit the best line through your data points by minimizing the \"cost\" or the differences between observed and predicted values. This is done using the least squares method, aiming to make these differences as tiny as possible. The cost function (often Mean Squared Error, MSE) is like the tailor\\'s measuring tape, helping to get the perfect fit.\\n\\n#### Assumptions of Linear Regression\\nFor our detective to do its best work, a few ground rules need to be in place:\\n1. **Linearity**: The relationship between the independent and dependent variables should be straight (no crazy curves).\\n2. **Independence**: The errors (residuals) should mind their own business and not be influenced by each other.\\n3. **Homoscedasticity**: The spread (variance) of errors should be consistent across all levels of the independent variable.\\n4. **Normality**: The errors should follow a normal distribution (bell curve vibes).\\n\\n#### Advantages and Disadvantages\\n**Advantages**:\\n- Easy to understand and use.\\n- Quick to compute.\\n- Results are straightforward and interpretable.\\n\\n**Disadvantages**:\\n- Assumes the relationship is linear (life isn\\'t always that simple).\\n- Sensitive to outliers (those pesky outliers can mess things up).\\n- Can overfit with too many predictors (more isn\\'t always better).\\n\\n#### Applications of Linear Regression\\nLinear regression is like the Swiss Army knife 🔪 of data analysis. It\\'s used in:\\n- **Finance**: Predicting stock prices. 📈\\n- **Economics**: Forecasting economic trends. 💹\\n- **Healthcare**: Predicting disease progression. 🏥\\n- And so much more!\\n\\n#### Conclusion\\nLinear regression is a powerful yet straightforward tool for making predictions. Its simplicity and clarity make it a go-to technique for data scientists and machine learning practitioners. As you dive deeper, you\\'ll uncover even more exciting facets and applications of this amazing tool.\\n\\n---\\n\\nWould you like to save this final version, or do you need any further edits?', name='CopyEditor')]}}\n",
            "---\n",
            "{'supervisor': {'next': 'CopyEditor'}}\n",
            "---\n",
            "{'CopyEditor': {'messages': [HumanMessage(content='The final version of the blog draft has been successfully saved to `linear_regression_blog_draft.txt`.\\n\\nIs there anything else you need assistance with?', name='CopyEditor')]}}\n",
            "---\n",
            "{'supervisor': {'next': 'FINISH'}}\n",
            "---\n"
          ]
        }
      ],
      "source": [
        "for s in authoring_chain.stream(\n",
        "    \"Write an outline for for a short technical blog on Linear Regression and write it to disk.\",\n",
        "    {\"recursion_limit\": 100},\n",
        "):\n",
        "    if \"__end__\" not in s:\n",
        "        print(s)\n",
        "        print(\"---\")"
      ]
    },
    {
      "cell_type": "markdown",
      "metadata": {
        "id": "zpW2R9SUHGUq"
      },
      "source": [
        "## Meta-Supervisor\n",
        "\n",
        "Finally, now that we have our two LangGraph agents (some of which are already multi-agent), we can build a supervisor that sits above all of them!\n",
        "\n",
        "The final process, surprisingly, is quite straight forward!\n",
        "\n",
        "Let's jump in!\n",
        "\n",
        "First off - we'll need to create our supervisor agent node."
      ]
    },
    {
      "cell_type": "code",
      "execution_count": 61,
      "metadata": {
        "id": "wkpxeUf9ygKp"
      },
      "outputs": [],
      "source": [
        "from langchain_core.messages import AIMessage, BaseMessage, HumanMessage\n",
        "\n",
        "supervisor_node = create_team_supervisor(\n",
        "    llm,\n",
        "    \"You are a supervisor tasked with managing a conversation between the\"\n",
        "    \" following teams: {team_members}. Given the following user request,\"\n",
        "    \" respond with the worker to act next. Each worker will perform a\"\n",
        "    \" task and respond with their results and status. When finished,\"\n",
        "    \" respond with FINISH.\",\n",
        "    [\"Research team\", \"Blog writing team\"],\n",
        ")"
      ]
    },
    {
      "cell_type": "markdown",
      "metadata": {
        "id": "hUvOh_xWIKig"
      },
      "source": [
        "We'll also create our new state - as well as some methods to help us navigate the new state and the subgraphs.\n",
        "\n",
        "> NOTE: We only pass the most recent message from the parent graph to the subgraph, and we only extract the most recent message from the subgraph to include in the state of the parent graph."
      ]
    },
    {
      "cell_type": "code",
      "execution_count": 85,
      "metadata": {
        "id": "O7HJ8MF0yh_i"
      },
      "outputs": [],
      "source": [
        "class State(TypedDict):\n",
        "    messages: Annotated[List[BaseMessage], operator.add]\n",
        "    next: str\n",
        "\n",
        "def get_last_message(state: State) -> str:\n",
        "    message = state[\"messages\"][-1].content\n",
        "    print(message)\n",
        "    return message\n",
        "\n",
        "def join_graph(response: dict):\n",
        "    message_dict = {\"messages\": [response[\"messages\"][-1]]}\n",
        "    print(message_dict)\n",
        "    return message_dict"
      ]
    },
    {
      "cell_type": "markdown",
      "metadata": {
        "id": "B5RHao1sIanG"
      },
      "source": [
        "Next, we'll create our base graph.\n",
        "\n",
        "Notice how each node we're adding is *AN ENTIRE LANGGRAPH AGENT* (wrapped into an LCEL chain with our helper functions above)."
      ]
    },
    {
      "cell_type": "code",
      "execution_count": 86,
      "metadata": {
        "id": "PfCWABCMIaFy"
      },
      "outputs": [],
      "source": [
        "super_graph = StateGraph(State)\n",
        "\n",
        "super_graph.add_node(\"Research team\", get_last_message | research_chain | join_graph)\n",
        "super_graph.add_node(\n",
        "    \"Blog writing team\", get_last_message | authoring_chain | join_graph\n",
        ")\n",
        "super_graph.add_node(\"supervisor\", supervisor_node)"
      ]
    },
    {
      "cell_type": "markdown",
      "metadata": {
        "id": "dpwpUXMtI62E"
      },
      "source": [
        "Next, we'll create our edges!\n",
        "\n",
        "This process is completely idenctical to what we've seen before - just addressing the LangGraph subgraph nodes instead of individual nodes."
      ]
    },
    {
      "cell_type": "code",
      "execution_count": 87,
      "metadata": {
        "id": "tLtjRuUYI-fx"
      },
      "outputs": [],
      "source": [
        "super_graph.add_edge(\"Research team\", \"supervisor\")\n",
        "super_graph.add_edge(\"Blog writing team\", \"supervisor\")\n",
        "super_graph.add_conditional_edges(\n",
        "    \"supervisor\",\n",
        "    lambda x: x[\"next\"],\n",
        "    {\n",
        "        \"Blog writing team\": \"Blog writing team\",\n",
        "        \"Research team\": \"Research team\",\n",
        "        \"FINISH\": END,\n",
        "    },\n",
        ")\n",
        "super_graph.set_entry_point(\"supervisor\")\n",
        "super_graph = super_graph.compile()"
      ]
    },
    {
      "cell_type": "code",
      "execution_count": 88,
      "metadata": {},
      "outputs": [
        {
          "name": "stdout",
          "output_type": "stream",
          "text": [
            "An error occurred: Runnable nodes={'__start__': PregelNode(config={'tags': ['langsmith:hidden']}, channels=['__start__'], triggers=['__start__'], writers=[ChannelWrite<messages,team_members,next,start:supervisor,start:supervisor,start:supervisor,start:supervisor,start:supervisor,start:supervisor>(recurse=True, writes=[ChannelWriteEntry(channel='messages', value=<object object at 0x000001E657E2F4C0>, skip_none=False, mapper=_get_state_key(recurse=False)), ChannelWriteEntry(channel='team_members', value=<object object at 0x000001E657E2F4C0>, skip_none=False, mapper=_get_state_key(recurse=False)), ChannelWriteEntry(channel='next', value=<object object at 0x000001E657E2F4C0>, skip_none=False, mapper=_get_state_key(recurse=False)), ChannelWriteEntry(channel='start:supervisor', value='__start__', skip_none=False, mapper=None), ChannelWriteEntry(channel='start:supervisor', value='__start__', skip_none=False, mapper=None), ChannelWriteEntry(channel='start:supervisor', value='__start__', skip_none=False, mapper=None), ChannelWriteEntry(channel='start:supervisor', value='__start__', skip_none=False, mapper=None), ChannelWriteEntry(channel='start:supervisor', value='__start__', skip_none=False, mapper=None), ChannelWriteEntry(channel='start:supervisor', value='__start__', skip_none=False, mapper=None)]), ChannelWrite<start:supervisor>(recurse=True, writes=[ChannelWriteEntry(channel='start:supervisor', value='__start__', skip_none=False, mapper=None)])]), 'Search': PregelNode(config={'tags': []}, channels={'messages': 'messages', 'team_members': 'team_members', 'next': 'next'}, triggers=['branch:supervisor:condition:Search'], mapper=functools.partial(<function _coerce_state at 0x000001E659A2A980>, <class '__main__.ResearchTeamState'>), writers=[ChannelWrite<Search,messages,team_members,next>(recurse=True, writes=[ChannelWriteEntry(channel='Search', value='Search', skip_none=False, mapper=None), ChannelWriteEntry(channel='messages', value=<object object at 0x000001E657E2F4C0>, skip_none=False, mapper=_get_state_key(recurse=False)), ChannelWriteEntry(channel='team_members', value=<object object at 0x000001E657E2F4C0>, skip_none=False, mapper=_get_state_key(recurse=False)), ChannelWriteEntry(channel='next', value=<object object at 0x000001E657E2F4C0>, skip_none=False, mapper=_get_state_key(recurse=False))])]), 'PaperInformationRetriever': PregelNode(config={'tags': []}, channels={'messages': 'messages', 'team_members': 'team_members', 'next': 'next'}, triggers=['branch:supervisor:condition:PaperInformationRetriever'], mapper=functools.partial(<function _coerce_state at 0x000001E659A2A980>, <class '__main__.ResearchTeamState'>), writers=[ChannelWrite<PaperInformationRetriever,messages,team_members,next>(recurse=True, writes=[ChannelWriteEntry(channel='PaperInformationRetriever', value='PaperInformationRetriever', skip_none=False, mapper=None), ChannelWriteEntry(channel='messages', value=<object object at 0x000001E657E2F4C0>, skip_none=False, mapper=_get_state_key(recurse=False)), ChannelWriteEntry(channel='team_members', value=<object object at 0x000001E657E2F4C0>, skip_none=False, mapper=_get_state_key(recurse=False)), ChannelWriteEntry(channel='next', value=<object object at 0x000001E657E2F4C0>, skip_none=False, mapper=_get_state_key(recurse=False))])]), 'supervisor': PregelNode(config={'tags': []}, channels={'messages': 'messages', 'team_members': 'team_members', 'next': 'next'}, triggers=['Search', 'PaperInformationRetriever', 'start:supervisor'], mapper=functools.partial(<function _coerce_state at 0x000001E659A2A980>, <class '__main__.ResearchTeamState'>), writers=[ChannelWrite<supervisor,messages,team_members,next>(recurse=True, writes=[ChannelWriteEntry(channel='supervisor', value='supervisor', skip_none=False, mapper=None), ChannelWriteEntry(channel='messages', value=<object object at 0x000001E657E2F4C0>, skip_none=False, mapper=_get_state_key(recurse=False)), ChannelWriteEntry(channel='team_members', value=<object object at 0x000001E657E2F4C0>, skip_none=False, mapper=_get_state_key(recurse=False)), ChannelWriteEntry(channel='next', value=<object object at 0x000001E657E2F4C0>, skip_none=False, mapper=_get_state_key(recurse=False))]), _route(recurse=True, _is_channel_writer=True)])} channels={'messages': <langgraph.channels.binop.BinaryOperatorAggregate object at 0x000001E659A41BB0>, 'team_members': <langgraph.channels.last_value.LastValue object at 0x000001E659A41A30>, 'next': <langgraph.channels.last_value.LastValue object at 0x000001E659AD5010>, '__start__': <langgraph.channels.ephemeral_value.EphemeralValue object at 0x000001E659A403B0>, 'Search': <langgraph.channels.ephemeral_value.EphemeralValue object at 0x000001E659988560>, 'PaperInformationRetriever': <langgraph.channels.ephemeral_value.EphemeralValue object at 0x000001E65A1CA300>, 'supervisor': <langgraph.channels.ephemeral_value.EphemeralValue object at 0x000001E6597E0BC0>, 'start:supervisor': <langgraph.channels.ephemeral_value.EphemeralValue object at 0x000001E6599E5E80>, 'branch:supervisor:condition:Search': <langgraph.channels.ephemeral_value.EphemeralValue object at 0x000001E65A1CBD40>, 'branch:supervisor:condition:PaperInformationRetriever': <langgraph.channels.ephemeral_value.EphemeralValue object at 0x000001E65A1CBCB0>} auto_validate=False stream_mode='updates' output_channels=['messages', 'team_members', 'next'] stream_channels=['messages', 'team_members', 'next'] input_channels='__start__' builder=<langgraph.graph.state.StateGraph object at 0x000001E64DD4C680> has no first node\n"
          ]
        }
      ],
      "source": [
        "from IPython.display import Image, display\n",
        "\n",
        "try:\n",
        "    display(Image(super_graph.get_graph(xray=True).draw_mermaid_png()))\n",
        "except Exception as e:\n",
        "    print(f\"An error occurred: {e}\")\n",
        "    pass"
      ]
    },
    {
      "cell_type": "markdown",
      "metadata": {
        "id": "K1KMfFqgJKw8"
      },
      "source": [
        "That's it!\n",
        "\n",
        "Now we can finally use our full agent!"
      ]
    },
    {
      "cell_type": "code",
      "execution_count": null,
      "metadata": {
        "colab": {
          "base_uri": "https://localhost:8080/"
        },
        "id": "3M6wUDR-yk8s",
        "outputId": "b2d8dee7-6dd4-4b1d-f43b-9bd256dbe5da"
      },
      "outputs": [],
      "source": [
        "for s in super_graph.stream(\n",
        "    {\n",
        "        \"messages\": [\n",
        "            HumanMessage(\n",
        "                content=\"Write a brief technical blog on the paper Artificial Intelligence - AI Pros and Cons. Make sure to copy-edit it, as well as check for dopeness - and then write it to disk.\"\n",
        "            )\n",
        "        ],\n",
        "    },\n",
        "    {\"recursion_limit\": 150},\n",
        "):\n",
        "    if \"__end__\" not in s:\n",
        "        print(s)\n",
        "        print(\"---\")"
      ]
    },
    {
      "cell_type": "markdown",
      "metadata": {
        "id": "PuZAvSlJJpPP"
      },
      "source": [
        "## SAMPLE BLOG!"
      ]
    },
    {
      "cell_type": "markdown",
      "metadata": {
        "id": "lOEMCrXTJaxW"
      },
      "source": [
        "## Unleashing the Power of Context in AI: The Llama-3 Breakthrough\n",
        "\n",
        "Artificial intelligence has just witnessed a transformative leap forward with the release of a groundbreaking paper, \"Extending Llama-3's Context Ten-Fold Overnight.\" The research team has achieved a feat that seemed almost insurmountable until now\\u2014extending the context length of Llama-3, a large language model, from a modest 8K tokens to an astonishing 80K tokens. This enhancement has been made possible through a sophisticated technique known as QLoRA fine-tuning, and the results are nothing short of revolutionary.\n",
        "\n",
        "Here's the scoop: The researchers didn't just tweak the existing model. They employed synthetic training samples crafted by none other than GPT-4, an AI model renowned for its linguistic prowess. The collaboration between Llama-3 and GPT-4 has ushered in a new era for Llama-3-8B-Instruct, the upgraded avatar of Llama-3. This version doesn't just maintain the model\\u2019s original capability over short contexts but elevates its performance across various complex evaluation tasks.\n",
        "\n",
        "What does this mean for the field of AI and for us, the users? Imagine interacting with AI that can hold a conversation with the depth of context that was previously the domain of human memory alone. This extended context length allows Llama-3 to delve into discussions and generate responses with unprecedented continuity and relevance. From customer service bots to digital assistants, the applications are limitless and thrilling.\n",
        "\n",
        "The best part? The research team is committed to transparency and collaboration. In an unprecedented move, they plan to release the entire suite of resources to the public. This includes the data, the enhanced model, the data generation pipeline, and even the training code. It's a gesture that promises to fuel further innovation and shared progress in the field of AI.\n",
        "\n",
        "The technical community is abuzz with excitement over this development, and rightly so. The \"Extending Llama-3's Context Ten-Fold Overnight\" paper doesn't just document an impressive technical achievement; it charts a course for the future of AI interactions that are richer, deeper, and more meaningful than ever before."
      ]
    }
  ],
  "metadata": {
    "colab": {
      "collapsed_sections": [
        "IDUnpEEl-L_F"
      ],
      "provenance": []
    },
    "kernelspec": {
      "display_name": "Python 3",
      "name": "python3"
    },
    "language_info": {
      "codemirror_mode": {
        "name": "ipython",
        "version": 3
      },
      "file_extension": ".py",
      "mimetype": "text/x-python",
      "name": "python",
      "nbconvert_exporter": "python",
      "pygments_lexer": "ipython3",
      "version": "3.12.3"
    }
  },
  "nbformat": 4,
  "nbformat_minor": 0
}
