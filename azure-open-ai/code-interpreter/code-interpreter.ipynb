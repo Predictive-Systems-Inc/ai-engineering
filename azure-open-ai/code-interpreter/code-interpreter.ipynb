{
 "cells": [
  {
   "cell_type": "code",
   "execution_count": 1,
   "metadata": {},
   "outputs": [
    {
     "data": {
      "text/plain": [
       "Assistant(id='asst_NscqprMxyvhxiSVVikyJgBj2', created_at=1716653384, description=None, instructions='You are an AI assistant that can write code to help answer math questions.', metadata={}, model='gpt-4o', name='Math Assistant', object='assistant', tools=[CodeInterpreterTool(type='code_interpreter')], response_format='auto', temperature=1.0, tool_resources=ToolResources(code_interpreter=ToolResourcesCodeInterpreter(file_ids=[]), file_search=None), top_p=1.0)"
      ]
     },
     "execution_count": 1,
     "metadata": {},
     "output_type": "execute_result"
    }
   ],
   "source": [
    "from openai import AzureOpenAI\n",
    "\n",
    "api_key = \"a1ab70e0f13c4db1b2236ae9ea986511\"\n",
    "api_version = \"2024-05-01-preview\"\n",
    "\n",
    "assistantClient = AzureOpenAI(\n",
    "    api_key=api_key,\n",
    "    azure_endpoint=\"https://james-ai.openai.azure.com/openai/assistants?api-version=2024-05-01-preview\",\n",
    "    api_version=api_version,\n",
    ")\n",
    "\n",
    "# Create an assistant\n",
    "assistant = assistantClient.beta.assistants.create(\n",
    "    name=\"Math Assistant\",\n",
    "    instructions=\"You are an AI assistant that can write code to help answer math questions.\",\n",
    "    tools=[{\"type\": \"code_interpreter\"}],\n",
    "    model=\"gpt-4o\"\n",
    ")\n",
    "\n",
    "assistant"
   ]
  },
  {
   "cell_type": "code",
   "execution_count": 2,
   "metadata": {},
   "outputs": [
    {
     "data": {
      "text/plain": [
       "Thread(id='thread_DqvZqrBFOQYOSVXFIru2pouT', created_at=1716653385, metadata={}, object='thread', tool_resources=ToolResources(code_interpreter=None, file_search=None))"
      ]
     },
     "execution_count": 2,
     "metadata": {},
     "output_type": "execute_result"
    }
   ],
   "source": [
    "threadsClient = AzureOpenAI(\n",
    "    api_key=api_key,\n",
    "    azure_endpoint=\"https://james-ai.openai.azure.com/openai/threads?api-version=2024-05-01-preview\",\n",
    "    api_version=api_version,\n",
    ")\n",
    "\n",
    "# Create a thread\n",
    "thread = threadsClient.beta.threads.create()\n",
    "\n",
    "thread"
   ]
  },
  {
   "cell_type": "code",
   "execution_count": 3,
   "metadata": {},
   "outputs": [
    {
     "data": {
      "text/plain": [
       "Message(id='msg_oCmMN60rA7lQNdOsZGucW94x', assistant_id=None, attachments=[], completed_at=None, content=[TextContentBlock(text=Text(annotations=[], value='I need to solve the equation `3x + 11 = 14`. Can you help me create a simple C program to solve this?'), type='text')], created_at=1716653387, incomplete_at=None, incomplete_details=None, metadata={}, object='thread.message', role='user', run_id=None, status=None, thread_id='thread_DqvZqrBFOQYOSVXFIru2pouT')"
      ]
     },
     "execution_count": 3,
     "metadata": {},
     "output_type": "execute_result"
    }
   ],
   "source": [
    "messageClient = AzureOpenAI(\n",
    "    api_key=api_key,\n",
    "    azure_endpoint=f\"https://james-ai.openai.azure.com/openai/threads/{thread.id}/messages?api-version=2024-05-01-preview\",\n",
    "    api_version=api_version,\n",
    ")\n",
    "\n",
    "# Add a user question to the thread\n",
    "message = messageClient.beta.threads.messages.create(\n",
    "    thread_id=thread.id,\n",
    "    role=\"user\",\n",
    "    content=\"I need to solve the equation `3x + 11 = 14`. Can you help me create a simple C program to solve this?\"\n",
    ")\n",
    "\n",
    "message"
   ]
  },
  {
   "cell_type": "code",
   "execution_count": 4,
   "metadata": {},
   "outputs": [
    {
     "name": "stdout",
     "output_type": "stream",
     "text": [
      "queued\n"
     ]
    }
   ],
   "source": [
    "import time\n",
    "\n",
    "runClient = AzureOpenAI(\n",
    "    api_key=api_key,\n",
    "    azure_endpoint=f\"https://james-ai.openai.azure.com/openai/threads/{thread.id}/runs?api-version=2024-05-01-preview\",\n",
    "    api_version=api_version,\n",
    ")\n",
    "\n",
    "# Run the thread and poll for the result\n",
    "run = runClient.beta.threads.runs.create(\n",
    "    thread_id=thread.id,\n",
    "    assistant_id=assistant.id,\n",
    "    instructions=\"Please address the user as Jane Doe. The user has a premium account.\",\n",
    ")\n",
    "\n",
    "while run.status == \"in_progress\" or run.status == \"queued\":\n",
    "  time.sleep(1)\n",
    "  print(run.status)\n",
    "  run = runClient.beta.threads.runs.retrieve(\n",
    "    thread_id=thread.id,\n",
    "    run_id=run.id\n",
    "  )"
   ]
  },
  {
   "cell_type": "code",
   "execution_count": 6,
   "metadata": {},
   "outputs": [
    {
     "data": {
      "text/plain": [
       "Message(id='msg_yM1jJswBM5cgp8llhlg5uz1p', assistant_id='asst_NscqprMxyvhxiSVVikyJgBj2', attachments=[], completed_at=None, content=[TextContentBlock(text=Text(annotations=[], value='Of course, Jane Doe! Below is a simple C program to solve the equation \\\\(3x + 11 = 14\\\\). The program will calculate and display the value of \\\\(x\\\\).\\n\\n```c\\n#include <stdio.h>\\n\\nint main() {\\n    // Define variables\\n    float x;\\n    int a = 3;\\n    int b = 11;\\n    int c = 14;\\n\\n    // Calculate x\\n    x = (float)(c - b) / a;\\n\\n    // Display the result\\n    printf(\"The solution to the equation 3x + 11 = 14 is x = %.2f\\\\n\", x);\\n\\n    return 0;\\n}\\n```\\n\\nYou can copy and paste this code into your C IDE or text editor, and then compile and run the program. It will display the value of \\\\(x\\\\) that satisfies the equation \\\\(3x + 11 = 14\\\\).'), type='text')], created_at=1716653390, incomplete_at=None, incomplete_details=None, metadata={}, object='thread.message', role='assistant', run_id='run_SBy5im3pETDg5jlsSiecxdSu', status=None, thread_id='thread_DqvZqrBFOQYOSVXFIru2pouT')"
      ]
     },
     "execution_count": 6,
     "metadata": {},
     "output_type": "execute_result"
    }
   ],
   "source": [
    "messages = messageClient.beta.threads.messages.list(\n",
    "  thread_id=thread.id\n",
    ")\n",
    "\n",
    "messages.data[0]"
   ]
  }
 ],
 "metadata": {
  "kernelspec": {
   "display_name": "ai-engineering",
   "language": "python",
   "name": "python3"
  },
  "language_info": {
   "codemirror_mode": {
    "name": "ipython",
    "version": 3
   },
   "file_extension": ".py",
   "mimetype": "text/x-python",
   "name": "python",
   "nbconvert_exporter": "python",
   "pygments_lexer": "ipython3",
   "version": "3.12.3"
  }
 },
 "nbformat": 4,
 "nbformat_minor": 2
}
