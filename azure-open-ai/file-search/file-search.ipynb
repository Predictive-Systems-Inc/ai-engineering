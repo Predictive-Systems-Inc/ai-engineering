{
 "cells": [
  {
   "cell_type": "code",
   "execution_count": 2,
   "metadata": {},
   "outputs": [],
   "source": [
    "from openai import AzureOpenAI\n",
    "\n",
    "api_key = \"a1ab70e0f13c4db1b2236ae9ea986511\"\n",
    "api_version = \"2024-05-01-preview\"\n",
    "\n",
    "vectorClient = AzureOpenAI(\n",
    "    api_key=api_key,\n",
    "    azure_endpoint=\"https://james-ai.openai.azure.com\",\n",
    "    api_version=api_version\n",
    ")"
   ]
  },
  {
   "cell_type": "code",
   "execution_count": 3,
   "metadata": {},
   "outputs": [
    {
     "data": {
      "text/plain": [
       "VectorStore(id='vs_COnJo0nH42LDNQ86Ir3F6KT8', created_at=1716653379, file_counts=FileCounts(cancelled=0, completed=0, failed=0, in_progress=0, total=0), last_active_at=1716653379, metadata={}, name='Stories', object='vector_store', status='completed', usage_bytes=0, expires_after=None, expires_at=None)"
      ]
     },
     "execution_count": 3,
     "metadata": {},
     "output_type": "execute_result"
    }
   ],
   "source": [
    "# Create a vector store called \"Financial Statements\"\n",
    "vector_store = vectorClient.beta.vector_stores.create(name=\"Stories\")\n",
    "\n",
    "vector_store"
   ]
  },
  {
   "cell_type": "code",
   "execution_count": 4,
   "metadata": {},
   "outputs": [],
   "source": [
    "# Ready the files for upload to OpenAI\n",
    "file_paths = [\"files/Alice_1.txt\"]\n",
    "file_streams = [open(path, \"rb\") for path in file_paths]"
   ]
  },
  {
   "cell_type": "code",
   "execution_count": 5,
   "metadata": {},
   "outputs": [],
   "source": [
    "# Use the upload and poll SDK helper to upload the files, add them to the vector store,\n",
    "# and poll the status of the file batch for completion.\n",
    "file_batch = vectorClient.beta.vector_stores.file_batches.upload_and_poll(\n",
    "  vector_store_id=vector_store.id, files=file_streams\n",
    ")"
   ]
  },
  {
   "cell_type": "code",
   "execution_count": 6,
   "metadata": {},
   "outputs": [
    {
     "name": "stdout",
     "output_type": "stream",
     "text": [
      "completed\n",
      "FileCounts(cancelled=0, completed=1, failed=0, in_progress=0, total=1)\n"
     ]
    }
   ],
   "source": [
    "# You can print the status and the file counts of the batch to see the result of this operation.\n",
    "print(file_batch.status)\n",
    "print(file_batch.file_counts)"
   ]
  },
  {
   "cell_type": "code",
   "execution_count": 7,
   "metadata": {},
   "outputs": [],
   "source": [
    "assistantClient = AzureOpenAI(\n",
    "    api_key=api_key,\n",
    "    azure_endpoint=\"https://james-ai.openai.azure.com/openai/assistants?api-version=2024-05-01-preview\",\n",
    "    api_version=api_version\n",
    ")\n",
    "\n",
    "assistant = assistantClient.beta.assistants.create(\n",
    "  name=\"AIWL Assistant\",\n",
    "  instructions=\"You are an expert in the story of Alice in Wonderland. Use your knowledge base to answer questions about the story.\",\n",
    "  model=\"gpt-4o\",\n",
    "  tools=[{\"type\": \"file_search\"}],\n",
    "  tool_resources={\"file_search\": {\"vector_store_ids\": [vector_store.id]}},\n",
    ")\n"
   ]
  },
  {
   "cell_type": "code",
   "execution_count": 8,
   "metadata": {},
   "outputs": [
    {
     "data": {
      "text/plain": [
       "Thread(id='thread_q50yuvYzyMpa4VtrDLxXaHQ1', created_at=1716653390, metadata={}, object='thread', tool_resources=ToolResources(code_interpreter=None, file_search=None))"
      ]
     },
     "execution_count": 8,
     "metadata": {},
     "output_type": "execute_result"
    }
   ],
   "source": [
    "threadsClient = AzureOpenAI(\n",
    "    api_key=api_key,\n",
    "    azure_endpoint=\"https://james-ai.openai.azure.com/openai/threads?api-version=2024-05-01-preview\",\n",
    "    api_version=api_version\n",
    ")\n",
    "\n",
    "# Create a thread\n",
    "thread = threadsClient.beta.threads.create()\n",
    "\n",
    "thread"
   ]
  },
  {
   "cell_type": "code",
   "execution_count": 9,
   "metadata": {},
   "outputs": [
    {
     "data": {
      "text/plain": [
       "Message(id='msg_JqHRRuhjB1N418P0zF451g7b', assistant_id=None, attachments=[], completed_at=None, content=[TextContentBlock(text=Text(annotations=[], value='Who are the characters in the story?'), type='text')], created_at=1716653392, incomplete_at=None, incomplete_details=None, metadata={}, object='thread.message', role='user', run_id=None, status=None, thread_id='thread_q50yuvYzyMpa4VtrDLxXaHQ1')"
      ]
     },
     "execution_count": 9,
     "metadata": {},
     "output_type": "execute_result"
    }
   ],
   "source": [
    "messageClient = AzureOpenAI(\n",
    "    api_key=api_key,\n",
    "    azure_endpoint=f\"https://james-ai.openai.azure.com/openai/threads/{thread.id}/messages?api-version=2024-05-01-preview\",\n",
    "    api_version=api_version\n",
    ")\n",
    "\n",
    "# Add a user question to the thread\n",
    "message = messageClient.beta.threads.messages.create(\n",
    "    thread_id=thread.id,\n",
    "    role=\"user\",\n",
    "    content=\"Who are the characters in the story?\"\n",
    ")\n",
    "\n",
    "message"
   ]
  },
  {
   "cell_type": "code",
   "execution_count": 10,
   "metadata": {},
   "outputs": [
    {
     "name": "stdout",
     "output_type": "stream",
     "text": [
      "None\n"
     ]
    }
   ],
   "source": [
    "import time\n",
    "\n",
    "runClient = AzureOpenAI(\n",
    "    api_key=api_key,\n",
    "    azure_endpoint=f\"https://james-ai.openai.azure.com/openai/threads/{thread.id}/runs?api-version=2024-05-01-preview\",\n",
    "    api_version=api_version\n",
    ")\n",
    "\n",
    "# Run the thread\n",
    "run = runClient.beta.threads.runs.create(\n",
    "    thread_id=thread.id,\n",
    "    assistant_id=assistant.id,\n",
    ")\n",
    "\n",
    "while run.status == \"in_progress\" or run.status == \"queued\":\n",
    "  time.sleep(1)\n",
    "  run = runClient.beta.threads.runs.retrieve(\n",
    "    thread_id=thread.id,\n",
    "    run_id=run.id\n",
    "  )\n",
    "  print(run.status)"
   ]
  },
  {
   "cell_type": "code",
   "execution_count": 13,
   "metadata": {},
   "outputs": [
    {
     "data": {
      "text/plain": [
       "Message(id='msg_jVTSxKf5jZgDc0D0nmgK1ra5', assistant_id='asst_7lfrKTxU6uNvMzF4JeMo89cr', attachments=[], completed_at=None, content=[TextContentBlock(text=Text(annotations=[], value='Here is a list of characters in \"Alice\\'s Adventures in Wonderland\":\\n\\n1. **Alice** - The protagonist of the story who falls down a rabbit hole into Wonderland.\\n2. **The White Rabbit** - The rabbit that Alice follows down the rabbit hole, recognizable by its waistcoat and pocket watch.\\n3. **The Queen of Hearts** - A tyrannical ruler who is quick to order executions.\\n4. **The King of Hearts** - The Queen\\'s husband, who is much less aggressive than the Queen.\\n5. **The Duchess** - A character who has a sharp chin and enjoys moralizing.\\n6. **The Cheshire Cat** - Known for its distinctive grin and ability to disappear and reappear at will.\\n7. **The Mad Hatter** - A mad character who hosts a perpetual tea party.\\n8. **The March Hare** - Companion to the Mad Hatter at their never-ending tea party.\\n9. **The Dormouse** - A sleepy rodent present at the Mad Hatter\\'s tea party.\\n10. **The Gryphon** - A creature that takes Alice to see the Mock Turtle.\\n11. **The Mock Turtle** - A melancholic character who sings songs and tells stories of its life.\\n12. **The Caterpillar** - A creature that gives Alice perplexing advice and smokes a hookah.\\n13. **The Knave of Hearts** - Accused of stealing the Queen\\'s tarts and standing trial.\\n14. **Bill the Lizard** - One of the creatures Alice interacts with during her adventures.\\n15. **The Cook** - Known for her violent tendencies and use of pepper.\\n\\nThis list summarizes the main characters Alice encounters during her adventures in Wonderland     .'), type='text')], created_at=1716653397, incomplete_at=None, incomplete_details=None, metadata={}, object='thread.message', role='assistant', run_id='run_lvZJpz0rR3WoWeg2pPDmRT1L', status=None, thread_id='thread_q50yuvYzyMpa4VtrDLxXaHQ1')"
      ]
     },
     "execution_count": 13,
     "metadata": {},
     "output_type": "execute_result"
    }
   ],
   "source": [
    "messages = messageClient.beta.threads.messages.list(\n",
    "  thread_id=thread.id\n",
    ")\n",
    "\n",
    "messages.data[0]"
   ]
  }
 ],
 "metadata": {
  "kernelspec": {
   "display_name": "ai-engineering",
   "language": "python",
   "name": "python3"
  },
  "language_info": {
   "codemirror_mode": {
    "name": "ipython",
    "version": 3
   },
   "file_extension": ".py",
   "mimetype": "text/x-python",
   "name": "python",
   "nbconvert_exporter": "python",
   "pygments_lexer": "ipython3",
   "version": "3.12.3"
  }
 },
 "nbformat": 4,
 "nbformat_minor": 2
}
